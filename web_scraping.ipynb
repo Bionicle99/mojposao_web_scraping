{
 "cells": [
  {
   "cell_type": "markdown",
   "id": "54f19dc9-38cc-492a-b5ed-4de34f46cc5e",
   "metadata": {},
   "source": [
    "Importing the needed libraries"
   ]
  },
  {
   "cell_type": "code",
   "execution_count": 44,
   "id": "9795d077-8606-4580-b0f9-43925e50b519",
   "metadata": {},
   "outputs": [],
   "source": [
    "import csv\n",
    "from datetime import datetime\n",
    "import time\n",
    "import requests\n",
    "from bs4 import BeautifulSoup\n",
    "import pandas as pd\n"
   ]
  },
  {
   "cell_type": "markdown",
   "id": "dea3581b-f295-434f-8e4d-afaf8aba9c39",
   "metadata": {},
   "source": [
    "Loading URL"
   ]
  },
  {
   "cell_type": "code",
   "execution_count": 45,
   "id": "93552932-4e1d-414f-ba7a-172b3a9ef51a",
   "metadata": {},
   "outputs": [],
   "source": [
    "URL = 'https://www.moj-posao.net/Poslovi/11/'\n",
    "page = requests.get(URL)\n",
    "soup = BeautifulSoup(page.content, 'html.parser')"
   ]
  },
  {
   "cell_type": "markdown",
   "id": "f9ab585e-c576-4af5-b728-8940982e359c",
   "metadata": {},
   "source": [
    "Creating Dataframe table to load the information into"
   ]
  },
  {
   "cell_type": "code",
   "execution_count": 46,
   "id": "da6d4db0-7169-47c5-9125-e8804e0fdb1e",
   "metadata": {},
   "outputs": [],
   "source": [
    "df = pd.DataFrame(columns = ['Title','Employer','Location','Deadline'])\n"
   ]
  },
  {
   "cell_type": "markdown",
   "id": "5786aa76-7038-4df3-92cb-91f73f98b3ea",
   "metadata": {},
   "source": [
    "Finding job elemets "
   ]
  },
  {
   "cell_type": "code",
   "execution_count": 63,
   "id": "d8f8d958-de1d-4bb0-bcce-7788bdc95042",
   "metadata": {},
   "outputs": [],
   "source": [
    "results = soup.find(id = 'featured-jobs')\n",
    "job_elements = results.find_all('li', class_= 'featured-job')\n",
    "for job_element in job_elements:\n",
    "    job_title = job_element.find('span', class_='job-position')\n",
    "    job_emp = job_element.find('img')\n",
    "    job_em = job_emp.attrs['title']\n",
    "    job_loc = job_element.find('span', class_='job-location')\n",
    "    job_dead = job_element.find('time', class_='deadline')\n",
    "    data_dict = {'Title':job_title, 'Employer':job_em, 'Location':job_loc, 'Deadline':job_dead}\n",
    "    df1=pd.DataFrame(data_dict, index=[0])\n",
    "    df = pd.concat([df,df1], ignore_index = True)\n"
   ]
  },
  {
   "cell_type": "markdown",
   "id": "0ce157e3-5efb-41f6-b169-98e6a6972954",
   "metadata": {},
   "source": [
    "Removing unnecessary scraped information "
   ]
  },
  {
   "cell_type": "code",
   "execution_count": 65,
   "id": "fdadeb19-1fc8-4927-a65e-ac14d388977b",
   "metadata": {},
   "outputs": [],
   "source": [
    "df = df.replace('\\n','',regex = True)"
   ]
  },
  {
   "cell_type": "markdown",
   "id": "f212d531-55d7-4562-8749-6e99aff7e67b",
   "metadata": {},
   "source": [
    "Saving dataframe into a CSV file for further use"
   ]
  },
  {
   "cell_type": "code",
   "execution_count": 68,
   "id": "42cd0468-d344-413e-8f45-32aa6499fd87",
   "metadata": {},
   "outputs": [],
   "source": [
    "df.to_csv('./Moj_Posao.csv')"
   ]
  }
 ],
 "metadata": {
  "kernelspec": {
   "display_name": "Python 3 (ipykernel)",
   "language": "python",
   "name": "python3"
  },
  "language_info": {
   "codemirror_mode": {
    "name": "ipython",
    "version": 3
   },
   "file_extension": ".py",
   "mimetype": "text/x-python",
   "name": "python",
   "nbconvert_exporter": "python",
   "pygments_lexer": "ipython3",
   "version": "3.11.5"
  }
 },
 "nbformat": 4,
 "nbformat_minor": 5
}
